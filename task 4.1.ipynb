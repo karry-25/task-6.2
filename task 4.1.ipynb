{
 "cells": [
  {
   "cell_type": "code",
   "execution_count": 1,
   "id": "34b7f556",
   "metadata": {},
   "outputs": [],
   "source": [
    "import numpy \n",
    "import cv2"
   ]
  },
  {
   "cell_type": "code",
   "execution_count": 2,
   "id": "4a772f0d",
   "metadata": {},
   "outputs": [],
   "source": [
    "image = numpy.ones((600,600))"
   ]
  },
  {
   "cell_type": "code",
   "execution_count": 3,
   "id": "9c81a406",
   "metadata": {},
   "outputs": [],
   "source": [
    "image[95:120,  270:400] = [[0]]\n",
    "image[110:180, 260:415] = [[0]]\n",
    "image[110:125, 280:295] = [[0]]\n",
    "image[180:195, 260:345] = [[0]]\n",
    "image[195:210, 260:390] = [[0]]\n",
    "image[210:225, 260:335] = [[0]]\n",
    "image[225:240, 240:335] = [[0]]\n",
    "image[225:240, 100:115] = [[0]]\n",
    "image[240:265, 220:335] = [[0]]\n",
    "image[240:265, 100:115] = [[0]]\n",
    "image[265:280, 200:370] = [[0]]\n",
    "image[265:280, 100:125] = [[0]]\n",
    "image[280:295, 190:333] = [[0]]\n",
    "image[280:295, 100:135] = [[0]]\n",
    "image[280:295, 355:370] = [[0]]\n",
    "image[290:305, 175:333] = [[0]]\n",
    "image[290:305, 100:150] = [[0]]\n",
    "image[305:320, 100:333] = [[0]]\n",
    "image[320:335, 115:320] = [[0]]\n",
    "image[335:350, 125:305] = [[0]]\n",
    "image[350:365, 135:295] = [[0]]\n",
    "image[365:375, 145:285] = [[0]]\n",
    "image[365:375, 145:275] = [[0]]\n",
    "image[375:390, 155:210] = [[0]]\n",
    "image[375:390, 230:270] = [[0]]  \n",
    "image[390:405, 155:190] = [[0]]\n",
    "image[390:405, 245:270] = [[0]]\n",
    "image[405:430, 155:175] = [[0]]\n",
    "image[405:430, 255:270] = [[0]]\n",
    "image[430:445, 155:190] = [[0]]\n",
    "image[430:445, 255:280] = [[0]]"
   ]
  },
  {
   "cell_type": "code",
   "execution_count": 4,
   "id": "b7545a48",
   "metadata": {},
   "outputs": [
    {
     "ename": "error",
     "evalue": "OpenCV(4.5.2) /tmp/pip-req-build-_6kv4wwc/opencv/modules/highgui/src/window.cpp:679: error: (-2:Unspecified error) The function is not implemented. Rebuild the library with Windows, GTK+ 2.x or Cocoa support. If you are on Ubuntu or Debian, install libgtk2.0-dev and pkg-config, then re-run cmake or configure script in function 'cvShowImage'\n",
     "output_type": "error",
     "traceback": [
      "\u001b[0;31m---------------------------------------------------------------------------\u001b[0m",
      "\u001b[0;31merror\u001b[0m                                     Traceback (most recent call last)",
      "\u001b[0;32m<ipython-input-4-dd8385cdab7c>\u001b[0m in \u001b[0;36m<module>\u001b[0;34m\u001b[0m\n\u001b[0;32m----> 1\u001b[0;31m \u001b[0mcv2\u001b[0m\u001b[0;34m.\u001b[0m\u001b[0mimshow\u001b[0m\u001b[0;34m(\u001b[0m\u001b[0;34m\"hi\"\u001b[0m\u001b[0;34m,\u001b[0m\u001b[0mimage\u001b[0m\u001b[0;34m)\u001b[0m\u001b[0;34m\u001b[0m\u001b[0;34m\u001b[0m\u001b[0m\n\u001b[0m\u001b[1;32m      2\u001b[0m \u001b[0mcv2\u001b[0m\u001b[0;34m.\u001b[0m\u001b[0mwaitKey\u001b[0m\u001b[0;34m(\u001b[0m\u001b[0;36m10000\u001b[0m\u001b[0;34m)\u001b[0m\u001b[0;34m\u001b[0m\u001b[0;34m\u001b[0m\u001b[0m\n\u001b[1;32m      3\u001b[0m \u001b[0mcv2\u001b[0m\u001b[0;34m.\u001b[0m\u001b[0mdestroyAllWindows\u001b[0m\u001b[0;34m(\u001b[0m\u001b[0;34m)\u001b[0m\u001b[0;34m\u001b[0m\u001b[0;34m\u001b[0m\u001b[0m\n",
      "\u001b[0;31merror\u001b[0m: OpenCV(4.5.2) /tmp/pip-req-build-_6kv4wwc/opencv/modules/highgui/src/window.cpp:679: error: (-2:Unspecified error) The function is not implemented. Rebuild the library with Windows, GTK+ 2.x or Cocoa support. If you are on Ubuntu or Debian, install libgtk2.0-dev and pkg-config, then re-run cmake or configure script in function 'cvShowImage'\n"
     ]
    }
   ],
   "source": [
    "cv2.imshow(\"hi\",image)\n",
    "cv2.waitKey(10000)\n",
    "cv2.destroyAllWindows()"
   ]
  },
  {
   "cell_type": "code",
   "execution_count": null,
   "id": "5e905665",
   "metadata": {},
   "outputs": [],
   "source": []
  },
  {
   "cell_type": "code",
   "execution_count": null,
   "id": "a2f04afd",
   "metadata": {},
   "outputs": [],
   "source": []
  },
  {
   "cell_type": "code",
   "execution_count": null,
   "id": "f6e63ba5",
   "metadata": {},
   "outputs": [],
   "source": []
  },
  {
   "cell_type": "code",
   "execution_count": null,
   "id": "9e69b455",
   "metadata": {},
   "outputs": [],
   "source": []
  },
  {
   "cell_type": "code",
   "execution_count": null,
   "id": "113dff18",
   "metadata": {},
   "outputs": [],
   "source": []
  },
  {
   "cell_type": "code",
   "execution_count": null,
   "id": "b9fc9ab3",
   "metadata": {},
   "outputs": [],
   "source": []
  },
  {
   "cell_type": "code",
   "execution_count": null,
   "id": "d3cc72e2",
   "metadata": {},
   "outputs": [],
   "source": []
  },
  {
   "cell_type": "code",
   "execution_count": null,
   "id": "4bc2c3b9",
   "metadata": {},
   "outputs": [],
   "source": []
  },
  {
   "cell_type": "code",
   "execution_count": null,
   "id": "36cf8fb4",
   "metadata": {},
   "outputs": [],
   "source": []
  },
  {
   "cell_type": "code",
   "execution_count": null,
   "id": "9dbd8903",
   "metadata": {},
   "outputs": [],
   "source": []
  }
 ],
 "metadata": {
  "kernelspec": {
   "display_name": "Python 3",
   "language": "python",
   "name": "python3"
  },
  "language_info": {
   "codemirror_mode": {
    "name": "ipython",
    "version": 3
   },
   "file_extension": ".py",
   "mimetype": "text/x-python",
   "name": "python",
   "nbconvert_exporter": "python",
   "pygments_lexer": "ipython3",
   "version": "3.8.10"
  }
 },
 "nbformat": 4,
 "nbformat_minor": 5
}
